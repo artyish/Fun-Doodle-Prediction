{
 "cells": [
  {
   "cell_type": "markdown",
   "id": "0016efee-1566-4384-af53-61651565675e",
   "metadata": {},
   "source": [
    "### Importing Necessary Libraries"
   ]
  },
  {
   "cell_type": "code",
   "execution_count": 80,
   "id": "66bb2222-fa77-4b2b-a2c3-cf074fdf9e3f",
   "metadata": {},
   "outputs": [],
   "source": [
    "import ast\n",
    "import tensorflow as tf\n",
    "import pandas as pd\n",
    "import matplotlib.pyplot as plt\n",
    "from PIL import Image, ImageDraw\n",
    "import numpy as np\n",
    "from sklearn.model_selection import train_test_split\n",
    "from tensorflow.keras.layers import Input, Resizing, Conv2D, Dropout, Flatten, Dense , Input , Resizing , GlobalAveragePooling2D , BatchNormalization , MaxPooling2D ,Activation,SpatialDropout2D, Lambda\n",
    "from tensorflow.keras.models import Model\n",
    "from sklearn.preprocessing import LabelEncoder\n",
    "from tensorflow.keras.optimizers import Adam\n",
    "from tensorflow.keras.callbacks import EarlyStopping, ReduceLROnPlateau\n",
    "from tensorflow.keras.applications import MobileNetV2\n",
    "import cv2"
   ]
  },
  {
   "cell_type": "code",
   "execution_count": 81,
   "id": "afa4e228-ec7b-4610-9b3c-401a71740947",
   "metadata": {},
   "outputs": [],
   "source": [
    "df = pd.read_csv('master_doodle_dataframe.csv')"
   ]
  },
  {
   "cell_type": "code",
   "execution_count": 82,
   "id": "3bb1bf71-012c-4ee3-8680-ba88c9c5539c",
   "metadata": {},
   "outputs": [
    {
     "data": {
      "text/html": [
       "<div>\n",
       "<style scoped>\n",
       "    .dataframe tbody tr th:only-of-type {\n",
       "        vertical-align: middle;\n",
       "    }\n",
       "\n",
       "    .dataframe tbody tr th {\n",
       "        vertical-align: top;\n",
       "    }\n",
       "\n",
       "    .dataframe thead th {\n",
       "        text-align: right;\n",
       "    }\n",
       "</style>\n",
       "<table border=\"1\" class=\"dataframe\">\n",
       "  <thead>\n",
       "    <tr style=\"text-align: right;\">\n",
       "      <th></th>\n",
       "      <th>countrycode</th>\n",
       "      <th>drawing</th>\n",
       "      <th>key_id</th>\n",
       "      <th>recognized</th>\n",
       "      <th>word</th>\n",
       "      <th>image_path</th>\n",
       "    </tr>\n",
       "  </thead>\n",
       "  <tbody>\n",
       "    <tr>\n",
       "      <th>0</th>\n",
       "      <td>RO</td>\n",
       "      <td>[[[0, 5, 3, 4, 10, 72, 82, 91, 99, 98, 87, 71,...</td>\n",
       "      <td>5613582005829632</td>\n",
       "      <td>True</td>\n",
       "      <td>traffic light</td>\n",
       "      <td>data/traffic light/5613582005829632.png</td>\n",
       "    </tr>\n",
       "    <tr>\n",
       "      <th>1</th>\n",
       "      <td>US</td>\n",
       "      <td>[[[0, 255], [3, 4]], [[86, 73, 73, 76, 85, 130...</td>\n",
       "      <td>5769631006457856</td>\n",
       "      <td>True</td>\n",
       "      <td>traffic light</td>\n",
       "      <td>data/traffic light/5769631006457856.png</td>\n",
       "    </tr>\n",
       "    <tr>\n",
       "      <th>2</th>\n",
       "      <td>ZA</td>\n",
       "      <td>[[[39, 33, 34, 39, 52, 61, 66, 65, 67, 71], [2...</td>\n",
       "      <td>4999795544424448</td>\n",
       "      <td>True</td>\n",
       "      <td>traffic light</td>\n",
       "      <td>data/traffic light/4999795544424448.png</td>\n",
       "    </tr>\n",
       "    <tr>\n",
       "      <th>3</th>\n",
       "      <td>VN</td>\n",
       "      <td>[[[12, 9], [128, 255]], [[0, 23, 36, 37, 42, 5...</td>\n",
       "      <td>4878417906368512</td>\n",
       "      <td>True</td>\n",
       "      <td>traffic light</td>\n",
       "      <td>data/traffic light/4878417906368512.png</td>\n",
       "    </tr>\n",
       "    <tr>\n",
       "      <th>4</th>\n",
       "      <td>HU</td>\n",
       "      <td>[[[9, 7, 0, 19, 49, 90, 96, 99, 93, 94, 62, 16...</td>\n",
       "      <td>5572841187573760</td>\n",
       "      <td>True</td>\n",
       "      <td>traffic light</td>\n",
       "      <td>data/traffic light/5572841187573760.png</td>\n",
       "    </tr>\n",
       "  </tbody>\n",
       "</table>\n",
       "</div>"
      ],
      "text/plain": [
       "  countrycode                                            drawing  \\\n",
       "0          RO  [[[0, 5, 3, 4, 10, 72, 82, 91, 99, 98, 87, 71,...   \n",
       "1          US  [[[0, 255], [3, 4]], [[86, 73, 73, 76, 85, 130...   \n",
       "2          ZA  [[[39, 33, 34, 39, 52, 61, 66, 65, 67, 71], [2...   \n",
       "3          VN  [[[12, 9], [128, 255]], [[0, 23, 36, 37, 42, 5...   \n",
       "4          HU  [[[9, 7, 0, 19, 49, 90, 96, 99, 93, 94, 62, 16...   \n",
       "\n",
       "             key_id  recognized           word  \\\n",
       "0  5613582005829632        True  traffic light   \n",
       "1  5769631006457856        True  traffic light   \n",
       "2  4999795544424448        True  traffic light   \n",
       "3  4878417906368512        True  traffic light   \n",
       "4  5572841187573760        True  traffic light   \n",
       "\n",
       "                                image_path  \n",
       "0  data/traffic light/5613582005829632.png  \n",
       "1  data/traffic light/5769631006457856.png  \n",
       "2  data/traffic light/4999795544424448.png  \n",
       "3  data/traffic light/4878417906368512.png  \n",
       "4  data/traffic light/5572841187573760.png  "
      ]
     },
     "execution_count": 82,
     "metadata": {},
     "output_type": "execute_result"
    }
   ],
   "source": [
    "df.head(5)"
   ]
  },
  {
   "cell_type": "code",
   "execution_count": 83,
   "id": "e2113daa-5552-42c6-b7e4-05bc08da8310",
   "metadata": {},
   "outputs": [
    {
     "data": {
      "text/plain": [
       "Index(['countrycode', 'drawing', 'key_id', 'recognized', 'word', 'image_path'], dtype='object')"
      ]
     },
     "execution_count": 83,
     "metadata": {},
     "output_type": "execute_result"
    }
   ],
   "source": [
    "df.columns"
   ]
  },
  {
   "cell_type": "code",
   "execution_count": 84,
   "id": "3184b9d2-cbbb-48aa-a60f-0ace48ef5a61",
   "metadata": {},
   "outputs": [
    {
     "name": "stdout",
     "output_type": "stream",
     "text": [
      "<class 'pandas.core.frame.DataFrame'>\n"
     ]
    }
   ],
   "source": [
    "print(type(df))"
   ]
  },
  {
   "cell_type": "code",
   "execution_count": 85,
   "id": "56eb5086-91a9-4fb9-a280-e9c21667daea",
   "metadata": {},
   "outputs": [],
   "source": [
    "df = df[['drawing','word']]"
   ]
  },
  {
   "cell_type": "code",
   "execution_count": 86,
   "id": "3f9c0dd2-2a13-45a1-837f-acd16456d8e5",
   "metadata": {},
   "outputs": [
    {
     "data": {
      "text/html": [
       "<div>\n",
       "<style scoped>\n",
       "    .dataframe tbody tr th:only-of-type {\n",
       "        vertical-align: middle;\n",
       "    }\n",
       "\n",
       "    .dataframe tbody tr th {\n",
       "        vertical-align: top;\n",
       "    }\n",
       "\n",
       "    .dataframe thead th {\n",
       "        text-align: right;\n",
       "    }\n",
       "</style>\n",
       "<table border=\"1\" class=\"dataframe\">\n",
       "  <thead>\n",
       "    <tr style=\"text-align: right;\">\n",
       "      <th></th>\n",
       "      <th>drawing</th>\n",
       "      <th>word</th>\n",
       "    </tr>\n",
       "  </thead>\n",
       "  <tbody>\n",
       "    <tr>\n",
       "      <th>0</th>\n",
       "      <td>[[[0, 5, 3, 4, 10, 72, 82, 91, 99, 98, 87, 71,...</td>\n",
       "      <td>traffic light</td>\n",
       "    </tr>\n",
       "    <tr>\n",
       "      <th>1</th>\n",
       "      <td>[[[0, 255], [3, 4]], [[86, 73, 73, 76, 85, 130...</td>\n",
       "      <td>traffic light</td>\n",
       "    </tr>\n",
       "    <tr>\n",
       "      <th>2</th>\n",
       "      <td>[[[39, 33, 34, 39, 52, 61, 66, 65, 67, 71], [2...</td>\n",
       "      <td>traffic light</td>\n",
       "    </tr>\n",
       "    <tr>\n",
       "      <th>3</th>\n",
       "      <td>[[[12, 9], [128, 255]], [[0, 23, 36, 37, 42, 5...</td>\n",
       "      <td>traffic light</td>\n",
       "    </tr>\n",
       "    <tr>\n",
       "      <th>4</th>\n",
       "      <td>[[[9, 7, 0, 19, 49, 90, 96, 99, 93, 94, 62, 16...</td>\n",
       "      <td>traffic light</td>\n",
       "    </tr>\n",
       "  </tbody>\n",
       "</table>\n",
       "</div>"
      ],
      "text/plain": [
       "                                             drawing           word\n",
       "0  [[[0, 5, 3, 4, 10, 72, 82, 91, 99, 98, 87, 71,...  traffic light\n",
       "1  [[[0, 255], [3, 4]], [[86, 73, 73, 76, 85, 130...  traffic light\n",
       "2  [[[39, 33, 34, 39, 52, 61, 66, 65, 67, 71], [2...  traffic light\n",
       "3  [[[12, 9], [128, 255]], [[0, 23, 36, 37, 42, 5...  traffic light\n",
       "4  [[[9, 7, 0, 19, 49, 90, 96, 99, 93, 94, 62, 16...  traffic light"
      ]
     },
     "execution_count": 86,
     "metadata": {},
     "output_type": "execute_result"
    }
   ],
   "source": [
    "df.head() #drawing is currently in the form of strokes D:"
   ]
  },
  {
   "cell_type": "code",
   "execution_count": 87,
   "id": "16b1124b-52b6-4de7-b0ee-8e5494669204",
   "metadata": {
    "scrolled": true
   },
   "outputs": [
    {
     "data": {
      "text/plain": [
       "array(['traffic light', 'rhinoceros', 'bed', 'school bus', 'van',\n",
       "       'octopus', 'firetruck', 'laptop', 'tractor', 'matches', 'windmill',\n",
       "       'square', 'pineapple', 'candle', 'mosquito', 'pear', 'boomerang',\n",
       "       'lollipop', 'yoga', 'waterslide', 'swan', 'triangle',\n",
       "       'diving board', 'crayon', 'hockey puck', 'moustache', 'calendar',\n",
       "       'cow', 'fire hydrant', 'hot air balloon', 'helmet', 'parrot',\n",
       "       'hot tub', 'baseball', 'saw', 'mouth', 'passport', 'campfire',\n",
       "       'car', 'bulldozer', 'pencil', 'wine glass', 'marker', 'axe', 'mug',\n",
       "       'see saw', 'foot', 'door', 'beach', 'cruise ship', 'drums',\n",
       "       'necklace', 'spoon', 'motorbike', 'megaphone', 'penguin',\n",
       "       'washing machine', 'giraffe', 'monkey', 'shoe', 'microphone',\n",
       "       'skyscraper', 'blackberry', 'sword', 'nail', 'birthday cake',\n",
       "       'carrot', 'lobster', 'hourglass', 'microwave', 'cannon',\n",
       "       'clarinet', 'basketball', 'pliers', 'bee', 'flashlight', 'leaf',\n",
       "       'belt', 'grass', 'river', 'peas', 'elbow', 'tiger',\n",
       "       'roller coaster', 'piano', 'trumpet', 'snowflake', 'bandage',\n",
       "       'bowtie', 'harp', 'onion', 'stairs', 'bus', 'oven', 'stop sign',\n",
       "       'chair', 'guitar', 'headphones', 'hockey stick', 'sheep', 'leg',\n",
       "       'popsicle', 'suitcase', 'snorkel', 'angel', 'scissors', 'line',\n",
       "       'shorts', 'toaster', 'lantern', 'rabbit', 'rain', 'camel', 'mouse',\n",
       "       'snail', 'cell phone', 'couch', 'butterfly', 'bear', 'light bulb',\n",
       "       'flower', 'paint can', 'hedgehog', 'teddy-bear', 'stitches',\n",
       "       'bathtub', 'blueberry', 'police car', 'crab', 'jail', 'ear',\n",
       "       'violin', 'grapes', 'ocean', 'telephone', 'bucket', 'anvil',\n",
       "       'animal migration', 'hamburger', 'dog', 'bush', 'whale', 'dresser',\n",
       "       'bicycle', 'church', 'table', 'hand', 'bread', 'toothpaste',\n",
       "       'raccoon', 'sandwich', 'barn', 'eyeglasses', 'cactus',\n",
       "       'smiley face', 'screwdriver', 'sun', 'envelope', 'map', 'radio',\n",
       "       'lighthouse', 'frog', 'peanut', 'sleeping bag', 'feather',\n",
       "       'The Great Wall of China', 'pillow', 'stethoscope', 'baseball bat',\n",
       "       'vase', 'sailboat', 'pond', 'crocodile', 'cake', 'kangaroo',\n",
       "       'pool', 'hurricane', 'hammer', 'tennis racquet', 'calculator',\n",
       "       'knee', 'The Eiffel Tower', 'cloud', 'lion', 'strawberry',\n",
       "       'fireplace', 'sink', 'hexagon', 'pizza', 'lipstick', 'flamingo',\n",
       "       'spider', 'star', 'streetlight', 'frying pan', 'cup', 'television',\n",
       "       'palm tree', 'eye', 'rake', 'pants', 'tooth', 'string bean',\n",
       "       'bracelet', 'crown', 'flip flops', 'teapot', 'compass',\n",
       "       'power outlet', 'beard', 'rainbow', 'toothbrush', 'canoe',\n",
       "       'alarm clock', 'tornado', 'circle', 'pig', 'horse', 'computer',\n",
       "       'squiggle', 'fan', 'broccoli', 'hat', 'wine bottle', 'umbrella',\n",
       "       'The Mona Lisa', 'backpack', 'chandelier', 'cooler', 'basket',\n",
       "       'paper clip', 'trombone', 'house', 'cat', 'dolphin', 'moon',\n",
       "       'shark', 'swing set', 'speedboat', 'skull', 'cello', 'toe',\n",
       "       'underwear', 'golf club', 'paintbrush', 'tree', 'panda',\n",
       "       'camouflage', 'pickup truck', 'ladder', 'arm', 'clock', 'fence',\n",
       "       'sea turtle', 'jacket', 'diamond', 'octagon', 'remote control',\n",
       "       'stove', 'train', 'tent', 'parachute', 'ice cream', 'truck',\n",
       "       'castle', 'finger', 'potato', 'binoculars', 'helicopter',\n",
       "       'snowman', 'ant', 'toilet', 'flying saucer', 'steak', 'owl',\n",
       "       't-shirt', 'house plant', 'soccer ball', 'apple', 'book', 'face',\n",
       "       'sock', 'drill', 'donut', 'saxophone', 'dishwasher', 'camera',\n",
       "       'hospital', 'broom', 'lightning', 'watermelon', 'spreadsheet',\n",
       "       'bridge', 'coffee cup', 'ambulance', 'key', 'picture frame',\n",
       "       'nose', 'purse', 'stereo', 'keyboard', 'elephant', 'zigzag',\n",
       "       'bird', 'sweater', 'mailbox', 'banana', 'bench', 'snake',\n",
       "       'scorpion', 'submarine', 'ceiling fan', 'duck', 'skateboard',\n",
       "       'eraser', 'fork', 'hot dog', 'squirrel', 'rollerskates', 'zebra',\n",
       "       'mountain', 'wristwatch', 'dumbbell', 'mermaid', 'cookie',\n",
       "       'garden', 'asparagus', 'bottlecap', 'airplane', 'mushroom', 'bat',\n",
       "       'wheel', 'dragon', 'goatee', 'floor lamp', 'garden hose',\n",
       "       'postcard', 'shovel', 'brain', 'fish'], dtype=object)"
      ]
     },
     "execution_count": 87,
     "metadata": {},
     "output_type": "execute_result"
    }
   ],
   "source": [
    "words = df['word'].unique()\n",
    "words"
   ]
  },
  {
   "cell_type": "code",
   "execution_count": 88,
   "id": "99a5795f-80a8-4962-bcc6-2fd039ae6fb1",
   "metadata": {},
   "outputs": [
    {
     "name": "stderr",
     "output_type": "stream",
     "text": [
      "C:\\Users\\bette\\AppData\\Local\\Temp\\ipykernel_16244\\3420098130.py:1: DeprecationWarning: DataFrameGroupBy.apply operated on the grouping columns. This behavior is deprecated, and in a future version of pandas the grouping columns will be excluded from the operation. Either pass `include_groups=False` to exclude the groupings or explicitly select the grouping columns after groupby to silence this warning.\n",
      "  df_1000_per_class = df.groupby(\"word\").apply(lambda x: x.sample(n=min(len(x), 3000))).reset_index(drop=True)\n"
     ]
    }
   ],
   "source": [
    "df_1000_per_class = df.groupby(\"word\").apply(lambda x: x.sample(n=min(len(x), 3000))).reset_index(drop=True)"
   ]
  },
  {
   "cell_type": "code",
   "execution_count": 89,
   "id": "bcdb026c-7d73-49cb-9d72-9d729ae2f18e",
   "metadata": {},
   "outputs": [
    {
     "data": {
      "text/html": [
       "<div>\n",
       "<style scoped>\n",
       "    .dataframe tbody tr th:only-of-type {\n",
       "        vertical-align: middle;\n",
       "    }\n",
       "\n",
       "    .dataframe tbody tr th {\n",
       "        vertical-align: top;\n",
       "    }\n",
       "\n",
       "    .dataframe thead th {\n",
       "        text-align: right;\n",
       "    }\n",
       "</style>\n",
       "<table border=\"1\" class=\"dataframe\">\n",
       "  <thead>\n",
       "    <tr style=\"text-align: right;\">\n",
       "      <th></th>\n",
       "      <th>drawing</th>\n",
       "      <th>word</th>\n",
       "    </tr>\n",
       "  </thead>\n",
       "  <tbody>\n",
       "    <tr>\n",
       "      <th>0</th>\n",
       "      <td>[[[10, 27, 56, 76, 98, 113, 126, 142, 148, 147...</td>\n",
       "      <td>The Eiffel Tower</td>\n",
       "    </tr>\n",
       "    <tr>\n",
       "      <th>1</th>\n",
       "      <td>[[[0, 18, 56, 78, 101, 105, 118, 127, 140], [2...</td>\n",
       "      <td>The Eiffel Tower</td>\n",
       "    </tr>\n",
       "    <tr>\n",
       "      <th>2</th>\n",
       "      <td>[[[73, 72, 65, 42, 1, 21], [0, 53, 105, 168, 2...</td>\n",
       "      <td>The Eiffel Tower</td>\n",
       "    </tr>\n",
       "    <tr>\n",
       "      <th>3</th>\n",
       "      <td>[[[0, 9, 18, 41, 45, 49, 87, 151, 153, 152, 16...</td>\n",
       "      <td>The Eiffel Tower</td>\n",
       "    </tr>\n",
       "    <tr>\n",
       "      <th>4</th>\n",
       "      <td>[[[50, 35, 22, 15, 0], [6, 78, 112, 192, 244]]...</td>\n",
       "      <td>The Eiffel Tower</td>\n",
       "    </tr>\n",
       "    <tr>\n",
       "      <th>...</th>\n",
       "      <td>...</td>\n",
       "      <td>...</td>\n",
       "    </tr>\n",
       "    <tr>\n",
       "      <th>1019995</th>\n",
       "      <td>[[[0, 48, 93, 164, 194, 206, 235, 255], [90, 2...</td>\n",
       "      <td>zigzag</td>\n",
       "    </tr>\n",
       "    <tr>\n",
       "      <th>1019996</th>\n",
       "      <td>[[[75, 122, 222, 211, 1, 229, 135, 35, 32, 38,...</td>\n",
       "      <td>zigzag</td>\n",
       "    </tr>\n",
       "    <tr>\n",
       "      <th>1019997</th>\n",
       "      <td>[[[101, 68, 0, 127, 142, 140, 129, 97, 54, 2, ...</td>\n",
       "      <td>zigzag</td>\n",
       "    </tr>\n",
       "    <tr>\n",
       "      <th>1019998</th>\n",
       "      <td>[[[0, 18, 79, 106, 136, 150, 151, 132, 118, 10...</td>\n",
       "      <td>zigzag</td>\n",
       "    </tr>\n",
       "    <tr>\n",
       "      <th>1019999</th>\n",
       "      <td>[[[72, 77, 90, 119, 150, 184, 175, 139, 28, 0,...</td>\n",
       "      <td>zigzag</td>\n",
       "    </tr>\n",
       "  </tbody>\n",
       "</table>\n",
       "<p>1020000 rows × 2 columns</p>\n",
       "</div>"
      ],
      "text/plain": [
       "                                                   drawing              word\n",
       "0        [[[10, 27, 56, 76, 98, 113, 126, 142, 148, 147...  The Eiffel Tower\n",
       "1        [[[0, 18, 56, 78, 101, 105, 118, 127, 140], [2...  The Eiffel Tower\n",
       "2        [[[73, 72, 65, 42, 1, 21], [0, 53, 105, 168, 2...  The Eiffel Tower\n",
       "3        [[[0, 9, 18, 41, 45, 49, 87, 151, 153, 152, 16...  The Eiffel Tower\n",
       "4        [[[50, 35, 22, 15, 0], [6, 78, 112, 192, 244]]...  The Eiffel Tower\n",
       "...                                                    ...               ...\n",
       "1019995  [[[0, 48, 93, 164, 194, 206, 235, 255], [90, 2...            zigzag\n",
       "1019996  [[[75, 122, 222, 211, 1, 229, 135, 35, 32, 38,...            zigzag\n",
       "1019997  [[[101, 68, 0, 127, 142, 140, 129, 97, 54, 2, ...            zigzag\n",
       "1019998  [[[0, 18, 79, 106, 136, 150, 151, 132, 118, 10...            zigzag\n",
       "1019999  [[[72, 77, 90, 119, 150, 184, 175, 139, 28, 0,...            zigzag\n",
       "\n",
       "[1020000 rows x 2 columns]"
      ]
     },
     "execution_count": 89,
     "metadata": {},
     "output_type": "execute_result"
    }
   ],
   "source": [
    "df_1000_per_class"
   ]
  },
  {
   "cell_type": "code",
   "execution_count": 90,
   "id": "ff549923-7bdd-4d38-a2f9-d6ba616a7704",
   "metadata": {
    "scrolled": true
   },
   "outputs": [
    {
     "name": "stdout",
     "output_type": "stream",
     "text": [
      "963000          truck\n",
      "390000    garden hose\n",
      "165000       calendar\n",
      "216000         church\n",
      "177000       campfire\n",
      "540000         marker\n",
      "183000         cannon\n",
      "810000      snowflake\n",
      "684000           pond\n",
      "909000      telephone\n",
      "846000           star\n",
      "153000      butterfly\n",
      "279000            dog\n",
      "273000     dishwasher\n",
      "387000         garden\n",
      "627000          pants\n",
      "531000       lollipop\n",
      "960000       trombone\n",
      "477000         jacket\n",
      "648000           peas\n",
      "990000     waterslide\n",
      "426000     headphones\n",
      "510000     light bulb\n",
      "798000    smiley face\n",
      "546000      megaphone\n",
      "135000       broccoli\n",
      "864000          stove\n",
      "27000           anvil\n",
      "339000          fence\n",
      "291000         dragon\n",
      "18000           angel\n",
      "450000       hospital\n",
      "882000            sun\n",
      "258000      crocodile\n",
      "72000           beach\n",
      "570000       mountain\n",
      "12000     alarm clock\n",
      "855000    stethoscope\n",
      "429000       hedgehog\n",
      "729000          river\n",
      "468000    house plant\n",
      "156000         cactus\n",
      "597000          ocean\n",
      "924000        toaster\n",
      "357000       flamingo\n",
      "588000           nail\n",
      "48000         bandage\n",
      "843000         stairs\n",
      "717000        rainbow\n",
      "288000           door\n",
      "Name: word, dtype: object\n"
     ]
    }
   ],
   "source": [
    "words_unique = df_1000_per_class['word'].drop_duplicates().sample(n=50,random_state=21)\n",
    "print(words_unique)"
   ]
  },
  {
   "cell_type": "code",
   "execution_count": 91,
   "id": "779b3f60-4ee3-4a9b-af07-b73db2b572e5",
   "metadata": {},
   "outputs": [],
   "source": [
    "dfmain = df_1000_per_class[df_1000_per_class['word'].isin(words_unique)]"
   ]
  },
  {
   "cell_type": "code",
   "execution_count": 92,
   "id": "eea70cee-223a-47bd-a758-58d0d85a065b",
   "metadata": {},
   "outputs": [
    {
     "data": {
      "text/plain": [
       "pandas.core.frame.DataFrame"
      ]
     },
     "execution_count": 92,
     "metadata": {},
     "output_type": "execute_result"
    }
   ],
   "source": [
    "type(dfmain)"
   ]
  },
  {
   "cell_type": "code",
   "execution_count": 93,
   "id": "7f52a6ea-6fbf-49b7-80ef-06e654b92380",
   "metadata": {},
   "outputs": [],
   "source": [
    "dfmain = dfmain.reset_index(drop=True)"
   ]
  },
  {
   "cell_type": "code",
   "execution_count": 94,
   "id": "81219a43-4da8-45fc-81e3-0e3cf8a48ed8",
   "metadata": {
    "scrolled": true
   },
   "outputs": [
    {
     "data": {
      "text/html": [
       "<div>\n",
       "<style scoped>\n",
       "    .dataframe tbody tr th:only-of-type {\n",
       "        vertical-align: middle;\n",
       "    }\n",
       "\n",
       "    .dataframe tbody tr th {\n",
       "        vertical-align: top;\n",
       "    }\n",
       "\n",
       "    .dataframe thead th {\n",
       "        text-align: right;\n",
       "    }\n",
       "</style>\n",
       "<table border=\"1\" class=\"dataframe\">\n",
       "  <thead>\n",
       "    <tr style=\"text-align: right;\">\n",
       "      <th></th>\n",
       "      <th>drawing</th>\n",
       "      <th>word</th>\n",
       "    </tr>\n",
       "  </thead>\n",
       "  <tbody>\n",
       "    <tr>\n",
       "      <th>0</th>\n",
       "      <td>[[[69, 112, 129, 160, 183, 203, 213, 218, 220,...</td>\n",
       "      <td>alarm clock</td>\n",
       "    </tr>\n",
       "    <tr>\n",
       "      <th>1</th>\n",
       "      <td>[[[92, 74, 61, 45, 39, 38, 41, 64, 88, 117, 14...</td>\n",
       "      <td>alarm clock</td>\n",
       "    </tr>\n",
       "    <tr>\n",
       "      <th>2</th>\n",
       "      <td>[[[69, 62, 44, 7, 0, 7, 20, 45, 96, 139, 163, ...</td>\n",
       "      <td>alarm clock</td>\n",
       "    </tr>\n",
       "    <tr>\n",
       "      <th>3</th>\n",
       "      <td>[[[76, 78, 96, 104, 114, 137, 154, 168, 171], ...</td>\n",
       "      <td>alarm clock</td>\n",
       "    </tr>\n",
       "    <tr>\n",
       "      <th>4</th>\n",
       "      <td>[[[116, 121, 153, 168, 179, 193, 197, 197, 183...</td>\n",
       "      <td>alarm clock</td>\n",
       "    </tr>\n",
       "    <tr>\n",
       "      <th>...</th>\n",
       "      <td>...</td>\n",
       "      <td>...</td>\n",
       "    </tr>\n",
       "    <tr>\n",
       "      <th>149995</th>\n",
       "      <td>[[[21, 13, 2, 0, 2], [1, 160, 228, 255, 248]],...</td>\n",
       "      <td>waterslide</td>\n",
       "    </tr>\n",
       "    <tr>\n",
       "      <th>149996</th>\n",
       "      <td>[[[3, 11, 15], [237, 148, 42]], [[30, 48, 45],...</td>\n",
       "      <td>waterslide</td>\n",
       "    </tr>\n",
       "    <tr>\n",
       "      <th>149997</th>\n",
       "      <td>[[[34, 69, 88, 108, 111, 111, 98, 73, 38, 11, ...</td>\n",
       "      <td>waterslide</td>\n",
       "    </tr>\n",
       "    <tr>\n",
       "      <th>149998</th>\n",
       "      <td>[[[0, 3], [108, 104]], [[28, 38, 47, 72], [93,...</td>\n",
       "      <td>waterslide</td>\n",
       "    </tr>\n",
       "    <tr>\n",
       "      <th>149999</th>\n",
       "      <td>[[[133, 157, 179, 187, 191, 199, 211, 225, 234...</td>\n",
       "      <td>waterslide</td>\n",
       "    </tr>\n",
       "  </tbody>\n",
       "</table>\n",
       "<p>150000 rows × 2 columns</p>\n",
       "</div>"
      ],
      "text/plain": [
       "                                                  drawing         word\n",
       "0       [[[69, 112, 129, 160, 183, 203, 213, 218, 220,...  alarm clock\n",
       "1       [[[92, 74, 61, 45, 39, 38, 41, 64, 88, 117, 14...  alarm clock\n",
       "2       [[[69, 62, 44, 7, 0, 7, 20, 45, 96, 139, 163, ...  alarm clock\n",
       "3       [[[76, 78, 96, 104, 114, 137, 154, 168, 171], ...  alarm clock\n",
       "4       [[[116, 121, 153, 168, 179, 193, 197, 197, 183...  alarm clock\n",
       "...                                                   ...          ...\n",
       "149995  [[[21, 13, 2, 0, 2], [1, 160, 228, 255, 248]],...   waterslide\n",
       "149996  [[[3, 11, 15], [237, 148, 42]], [[30, 48, 45],...   waterslide\n",
       "149997  [[[34, 69, 88, 108, 111, 111, 98, 73, 38, 11, ...   waterslide\n",
       "149998  [[[0, 3], [108, 104]], [[28, 38, 47, 72], [93,...   waterslide\n",
       "149999  [[[133, 157, 179, 187, 191, 199, 211, 225, 234...   waterslide\n",
       "\n",
       "[150000 rows x 2 columns]"
      ]
     },
     "execution_count": 94,
     "metadata": {},
     "output_type": "execute_result"
    }
   ],
   "source": [
    "dfmain"
   ]
  },
  {
   "cell_type": "code",
   "execution_count": 95,
   "id": "6a7fcf6c-2fbe-4d01-ae59-57d74703228e",
   "metadata": {},
   "outputs": [
    {
     "data": {
      "text/plain": [
       "array(['alarm clock', 'angel', 'anvil', 'bandage', 'beach', 'broccoli',\n",
       "       'butterfly', 'cactus', 'calendar', 'campfire', 'cannon', 'church',\n",
       "       'crocodile', 'dishwasher', 'dog', 'door', 'dragon', 'fence',\n",
       "       'flamingo', 'garden', 'garden hose', 'headphones', 'hedgehog',\n",
       "       'hospital', 'house plant', 'jacket', 'light bulb', 'lollipop',\n",
       "       'marker', 'megaphone', 'mountain', 'nail', 'ocean', 'pants',\n",
       "       'peas', 'pond', 'rainbow', 'river', 'smiley face', 'snowflake',\n",
       "       'stairs', 'star', 'stethoscope', 'stove', 'sun', 'telephone',\n",
       "       'toaster', 'trombone', 'truck', 'waterslide'], dtype=object)"
      ]
     },
     "execution_count": 95,
     "metadata": {},
     "output_type": "execute_result"
    }
   ],
   "source": [
    "dfmain['word'].unique()"
   ]
  },
  {
   "cell_type": "markdown",
   "id": "40b0e2e0-9adf-40bf-ad27-5d20fce371c8",
   "metadata": {},
   "source": [
    "### Unused commands are commented // Cell for conversion of strokes to image"
   ]
  },
  {
   "cell_type": "code",
   "execution_count": 96,
   "id": "f785b7e9-8c8e-4f5b-9b3b-b44efed7ab58",
   "metadata": {},
   "outputs": [],
   "source": [
    "#def makeimage(strokes , image_size = 96  , line_width = 2): \n",
    "    #img = Image.new(\"L\", (image_size, image_size), color=255) \n",
    "    #draw = ImageDraw.Draw(img)\n",
    "    \n",
    "    #for stroke in strokes:\n",
    "        #x, y = stroke\n",
    "        #points = list(zip(x, y))\n",
    "        #draw.line(points, fill=0, width=line_width)\n",
    "    #return np.array(img)\n",
    "\n",
    "def draw_strokes(strokes, size=96, lw=3):\n",
    "    img = np.zeros((256, 256), np.uint8)  \n",
    "    for stroke in strokes:\n",
    "        for i in range(len(stroke[0]) - 1):\n",
    "            x1, y1 = stroke[0][i], stroke[1][i]\n",
    "            x2, y2 = stroke[0][i+1], stroke[1][i+1]\n",
    "            cv2.line(img, (x1, y1), (x2, y2), color=255, thickness=lw)\n",
    "\n",
    "    if img.max() > 0:\n",
    "        x, y, w, h = cv2.boundingRect((img > 0).astype(np.uint8))\n",
    "        img = img[y:y+h, x:x+w]\n",
    "    img = cv2.resize(img, (size, size), interpolation=cv2.INTER_AREA)\n",
    "\n",
    "    return img"
   ]
  },
  {
   "cell_type": "code",
   "execution_count": 97,
   "id": "8964941f-2555-456e-b8cd-8574cb018e67",
   "metadata": {},
   "outputs": [],
   "source": [
    "dfmain['image'] = dfmain['drawing'].apply(lambda x: 255 - draw_strokes(eval(x)))"
   ]
  },
  {
   "cell_type": "code",
   "execution_count": 98,
   "id": "a41aafb8-de45-472c-affb-f0376effc50d",
   "metadata": {
    "scrolled": true
   },
   "outputs": [
    {
     "data": {
      "text/html": [
       "<div>\n",
       "<style scoped>\n",
       "    .dataframe tbody tr th:only-of-type {\n",
       "        vertical-align: middle;\n",
       "    }\n",
       "\n",
       "    .dataframe tbody tr th {\n",
       "        vertical-align: top;\n",
       "    }\n",
       "\n",
       "    .dataframe thead th {\n",
       "        text-align: right;\n",
       "    }\n",
       "</style>\n",
       "<table border=\"1\" class=\"dataframe\">\n",
       "  <thead>\n",
       "    <tr style=\"text-align: right;\">\n",
       "      <th></th>\n",
       "      <th>drawing</th>\n",
       "      <th>word</th>\n",
       "      <th>image</th>\n",
       "    </tr>\n",
       "  </thead>\n",
       "  <tbody>\n",
       "    <tr>\n",
       "      <th>0</th>\n",
       "      <td>[[[69, 112, 129, 160, 183, 203, 213, 218, 220,...</td>\n",
       "      <td>alarm clock</td>\n",
       "      <td>[[255, 255, 255, 223, 0, 0, 134, 96, 17, 0, 0,...</td>\n",
       "    </tr>\n",
       "    <tr>\n",
       "      <th>1</th>\n",
       "      <td>[[[92, 74, 61, 45, 39, 38, 41, 64, 88, 117, 14...</td>\n",
       "      <td>alarm clock</td>\n",
       "      <td>[[255, 255, 255, 255, 255, 255, 255, 255, 255,...</td>\n",
       "    </tr>\n",
       "    <tr>\n",
       "      <th>2</th>\n",
       "      <td>[[[69, 62, 44, 7, 0, 7, 20, 45, 96, 139, 163, ...</td>\n",
       "      <td>alarm clock</td>\n",
       "      <td>[[255, 255, 255, 255, 255, 255, 255, 255, 255,...</td>\n",
       "    </tr>\n",
       "    <tr>\n",
       "      <th>3</th>\n",
       "      <td>[[[76, 78, 96, 104, 114, 137, 154, 168, 171], ...</td>\n",
       "      <td>alarm clock</td>\n",
       "      <td>[[255, 255, 255, 255, 255, 255, 255, 255, 255,...</td>\n",
       "    </tr>\n",
       "    <tr>\n",
       "      <th>4</th>\n",
       "      <td>[[[116, 121, 153, 168, 179, 193, 197, 197, 183...</td>\n",
       "      <td>alarm clock</td>\n",
       "      <td>[[0, 0, 0, 0, 0, 0, 0, 0, 0, 0, 0, 0, 0, 0, 0,...</td>\n",
       "    </tr>\n",
       "  </tbody>\n",
       "</table>\n",
       "</div>"
      ],
      "text/plain": [
       "                                             drawing         word  \\\n",
       "0  [[[69, 112, 129, 160, 183, 203, 213, 218, 220,...  alarm clock   \n",
       "1  [[[92, 74, 61, 45, 39, 38, 41, 64, 88, 117, 14...  alarm clock   \n",
       "2  [[[69, 62, 44, 7, 0, 7, 20, 45, 96, 139, 163, ...  alarm clock   \n",
       "3  [[[76, 78, 96, 104, 114, 137, 154, 168, 171], ...  alarm clock   \n",
       "4  [[[116, 121, 153, 168, 179, 193, 197, 197, 183...  alarm clock   \n",
       "\n",
       "                                               image  \n",
       "0  [[255, 255, 255, 223, 0, 0, 134, 96, 17, 0, 0,...  \n",
       "1  [[255, 255, 255, 255, 255, 255, 255, 255, 255,...  \n",
       "2  [[255, 255, 255, 255, 255, 255, 255, 255, 255,...  \n",
       "3  [[255, 255, 255, 255, 255, 255, 255, 255, 255,...  \n",
       "4  [[0, 0, 0, 0, 0, 0, 0, 0, 0, 0, 0, 0, 0, 0, 0,...  "
      ]
     },
     "execution_count": 98,
     "metadata": {},
     "output_type": "execute_result"
    }
   ],
   "source": [
    "dfmain.head(5)"
   ]
  },
  {
   "cell_type": "code",
   "execution_count": 99,
   "id": "5b7363f0-3a35-4e70-940c-da4817ebd393",
   "metadata": {},
   "outputs": [
    {
     "data": {
      "text/plain": [
       "(96, 96)"
      ]
     },
     "execution_count": 99,
     "metadata": {},
     "output_type": "execute_result"
    }
   ],
   "source": [
    "dfmain['image'][0].shape"
   ]
  },
  {
   "cell_type": "code",
   "execution_count": 100,
   "id": "09810fe0-8bf9-4969-805d-05fd64fe9a34",
   "metadata": {},
   "outputs": [
    {
     "data": {
      "text/plain": [
       "(150000, 3)"
      ]
     },
     "execution_count": 100,
     "metadata": {},
     "output_type": "execute_result"
    }
   ],
   "source": [
    "dfmain.shape"
   ]
  },
  {
   "cell_type": "code",
   "execution_count": 101,
   "id": "2fa8d61b-867a-42be-95e5-cf1d8fb0bdc8",
   "metadata": {},
   "outputs": [],
   "source": [
    "dfmain = dfmain.drop('drawing',axis=1)"
   ]
  },
  {
   "cell_type": "code",
   "execution_count": 102,
   "id": "b907b806-9b23-4dce-bf1a-b3acfe154780",
   "metadata": {},
   "outputs": [],
   "source": [
    "dfmain.head()\n",
    "X = np.stack(dfmain['image'].values)\n",
    "X = X.astype(np.float32) / 255.0\n",
    "y = dfmain['word']\n",
    "label_encoder = LabelEncoder()\n",
    "y = label_encoder.fit_transform(y)"
   ]
  },
  {
   "cell_type": "markdown",
   "id": "ae759455-d2df-4573-b2bc-9f84940f7c0c",
   "metadata": {},
   "source": [
    "### Unused commands are kept in a markdown cell (previous testing)"
   ]
  },
  {
   "cell_type": "markdown",
   "id": "90f721a0-8194-47b1-8204-bc0846b065f2",
   "metadata": {},
   "source": [
    "ds = tf.data.Dataset.from_tensor_slices((X, y))\n",
    "ds = ds.shuffle(buffer_size=1000)  # shuffle with buffer size of 1000\n",
    "\n",
    "def train_test_val_func(data , train_size , test_size , val_size):\n",
    "    lengthdata = len(data)\n",
    "    trainds = data.take(int(train_size*lengthdata))\n",
    "    leftover = data.skip(int(train_size*lengthdata))\n",
    "    valds = leftover.take(int(val_size*lengthdata))\n",
    "    testds = leftover.skip(int(val_size*lengthdata))\n",
    "    return trainds , testds , valds\n",
    "\n",
    "trainds , testds , valds = train_test_val_func(ds,0.80,0.10,0.10) \n",
    "\n",
    "trainds = trainds.batch(32).prefetch(buffer_size=tf.data.AUTOTUNE)\n",
    "testds = testds.batch(32).prefetch(buffer_size=tf.data.AUTOTUNE)\n",
    "valds = valds.batch(32).prefetch(buffer_size=tf.data.AUTOTUNE)"
   ]
  },
  {
   "cell_type": "markdown",
   "id": "f74aeee0-252f-4f59-9943-ae0b2dd641a0",
   "metadata": {},
   "source": [
    "X = dfmain['image']\n",
    "X = X / 255.0\n",
    "X= X.astype('float32')\n",
    "y = dfmain['word']\n",
    "label_encoder = LabelEncoder()\n",
    "y = label_encoder.fit_transform(y)"
   ]
  },
  {
   "cell_type": "code",
   "execution_count": 103,
   "id": "e75507e6-9ef8-432b-97ad-54fabc4bc795",
   "metadata": {},
   "outputs": [],
   "source": [
    "X_train, X_temp, y_train, y_temp = train_test_split(X, y, test_size=0.2, random_state=42)\n",
    "X_train_stacked = np.stack(X_train, axis=0)\n",
    "X_train_ready = np.expand_dims(X_train_stacked, axis=-1)\n",
    "X_train = X_train_ready\n",
    "X_val, X_test, y_val, y_test = train_test_split(X_temp, y_temp, test_size=0.5, random_state=42)\n",
    "X_val_stacked = np.stack(X_val, axis=0)\n",
    "X_val_ready = np.expand_dims(X_val_stacked, axis=-1)\n",
    "X_val = X_val_ready\n",
    "X_test_stacked = np.stack(X_test, axis=0)\n",
    "X_test_ready = np.expand_dims(X_test_stacked, axis=-1)\n",
    "X_test = X_test_ready"
   ]
  },
  {
   "cell_type": "code",
   "execution_count": 110,
   "id": "f6ec17db-d828-4455-9b50-31cc46e4f9b4",
   "metadata": {},
   "outputs": [],
   "source": [
    "inputs = Input(shape=(96, 96, 1))\n",
    "x = Lambda(lambda x: tf.image.grayscale_to_rgb(x))(inputs)\n",
    "base_model = MobileNetV2(input_shape=(96, 96, 3), include_top=False, weights='imagenet')\n",
    "base_model.trainable = False\n",
    "\n",
    "#for layer in base_model.layers[:-20]:\n",
    "#    layer.trainable = False\n",
    "\n",
    "x = base_model(x, training=False)\n",
    "x = GlobalAveragePooling2D()(x)\n",
    "\n",
    "x = Dense(512, activation='relu')(x)\n",
    "x = BatchNormalization()(x)\n",
    "x = Dropout(0.4)(x)\n",
    "\n",
    "x = Dense(256, activation='relu')(x)\n",
    "x = BatchNormalization()(x)\n",
    "x = Dropout(0.3)(x)\n",
    "\n",
    "x = Dense(128, activation='relu')(x)\n",
    "x = BatchNormalization()(x)\n",
    "x = Dropout(0.2)(x)\n",
    "\n",
    "outputs = Dense(50, activation='softmax')(x)"
   ]
  },
  {
   "cell_type": "code",
   "execution_count": 111,
   "id": "c333924a-7674-446b-99e6-2613b409f22b",
   "metadata": {},
   "outputs": [
    {
     "name": "stdout",
     "output_type": "stream",
     "text": [
      "Model: \"model_3\"\n",
      "_________________________________________________________________\n",
      " Layer (type)                Output Shape              Param #   \n",
      "=================================================================\n",
      " input_7 (InputLayer)        [(None, 96, 96, 1)]       0         \n",
      "                                                                 \n",
      " lambda_3 (Lambda)           (None, 96, 96, 3)         0         \n",
      "                                                                 \n",
      " mobilenetv2_1.00_96 (Functi  (None, 3, 3, 1280)       2257984   \n",
      " onal)                                                           \n",
      "                                                                 \n",
      " global_average_pooling2d_3   (None, 1280)             0         \n",
      " (GlobalAveragePooling2D)                                        \n",
      "                                                                 \n",
      " dense_12 (Dense)            (None, 512)               655872    \n",
      "                                                                 \n",
      " batch_normalization_9 (Batc  (None, 512)              2048      \n",
      " hNormalization)                                                 \n",
      "                                                                 \n",
      " dropout_9 (Dropout)         (None, 512)               0         \n",
      "                                                                 \n",
      " dense_13 (Dense)            (None, 256)               131328    \n",
      "                                                                 \n",
      " batch_normalization_10 (Bat  (None, 256)              1024      \n",
      " chNormalization)                                                \n",
      "                                                                 \n",
      " dropout_10 (Dropout)        (None, 256)               0         \n",
      "                                                                 \n",
      " dense_14 (Dense)            (None, 128)               32896     \n",
      "                                                                 \n",
      " batch_normalization_11 (Bat  (None, 128)              512       \n",
      " chNormalization)                                                \n",
      "                                                                 \n",
      " dropout_11 (Dropout)        (None, 128)               0         \n",
      "                                                                 \n",
      " dense_15 (Dense)            (None, 50)                6450      \n",
      "                                                                 \n",
      "=================================================================\n",
      "Total params: 3,088,114\n",
      "Trainable params: 828,338\n",
      "Non-trainable params: 2,259,776\n",
      "_________________________________________________________________\n"
     ]
    }
   ],
   "source": [
    "model = Model(inputs=inputs, outputs=outputs)\n",
    "model.summary()"
   ]
  },
  {
   "cell_type": "code",
   "execution_count": 112,
   "id": "a9af405c-f595-49fa-bcae-7465206b8cdc",
   "metadata": {},
   "outputs": [],
   "source": [
    "early_stopping = EarlyStopping(\n",
    "    monitor='val_loss',      \n",
    "    patience=10,             \n",
    "    restore_best_weights=True, \n",
    "    verbose=1\n",
    ")\n",
    "reduce_lr = ReduceLROnPlateau(\n",
    "    monitor='val_loss',      \n",
    "    factor=0.2,              \n",
    "    patience=5,              \n",
    "    min_lr=0.00001,          \n",
    "    verbose=1                \n",
    ")"
   ]
  },
  {
   "cell_type": "code",
   "execution_count": 113,
   "id": "dc9fac0a-9257-4c4d-82ce-a1faf6c05904",
   "metadata": {},
   "outputs": [],
   "source": [
    "batch_size =32\n",
    "def data_generator():\n",
    "    for i in range(0, len(X_train), batch_size):\n",
    "        yield X_train[i:i+batch_size], y_train[i:i+batch_size]\n",
    "\n",
    "train_ds = tf.data.Dataset.from_generator(\n",
    "    data_generator,\n",
    "    output_signature=(\n",
    "        tf.TensorSpec(shape=(None, 96, 96, 1), dtype=tf.float32),  \n",
    "        tf.TensorSpec(shape=(None,), dtype=tf.int32)\n",
    "    )\n",
    ")\n",
    "\n",
    "train_ds = train_ds.shuffle(buffer_size=10).prefetch(tf.data.AUTOTUNE)\n",
    "val_ds = tf.data.Dataset.from_tensor_slices((X_val, y_val))\n",
    "val_ds = val_ds.batch(batch_size).prefetch(tf.data.AUTOTUNE)"
   ]
  },
  {
   "cell_type": "markdown",
   "id": "9a653689-08da-436f-8c6c-95a698c82233",
   "metadata": {},
   "source": [
    "### Model Training"
   ]
  },
  {
   "cell_type": "code",
   "execution_count": 115,
   "id": "78b2141e-38fd-4b67-ad78-e1e1293bb176",
   "metadata": {},
   "outputs": [
    {
     "name": "stdout",
     "output_type": "stream",
     "text": [
      "Epoch 1/15\n",
      "3750/3750 [==============================] - 154s 39ms/step - loss: 0.8345 - accuracy: 0.7587 - val_loss: 0.6105 - val_accuracy: 0.8211 - lr: 0.0010\n",
      "Epoch 2/15\n",
      "3750/3750 [==============================] - 140s 37ms/step - loss: 0.7633 - accuracy: 0.7801 - val_loss: 0.5810 - val_accuracy: 0.8296 - lr: 0.0010\n",
      "Epoch 3/15\n",
      "3750/3750 [==============================] - 144s 38ms/step - loss: 0.7170 - accuracy: 0.7916 - val_loss: 0.5664 - val_accuracy: 0.8356 - lr: 0.0010\n",
      "Epoch 4/15\n",
      "3750/3750 [==============================] - 144s 38ms/step - loss: 0.6857 - accuracy: 0.8001 - val_loss: 0.5615 - val_accuracy: 0.8357 - lr: 0.0010\n",
      "Epoch 5/15\n",
      "3750/3750 [==============================] - 141s 38ms/step - loss: 0.6636 - accuracy: 0.8068 - val_loss: 0.5528 - val_accuracy: 0.8385 - lr: 0.0010\n",
      "Epoch 6/15\n",
      "3750/3750 [==============================] - 141s 38ms/step - loss: 0.6388 - accuracy: 0.8135 - val_loss: 0.5486 - val_accuracy: 0.8418 - lr: 0.0010\n",
      "Epoch 7/15\n",
      "3750/3750 [==============================] - 143s 38ms/step - loss: 0.6245 - accuracy: 0.8163 - val_loss: 0.5431 - val_accuracy: 0.8419 - lr: 0.0010\n",
      "Epoch 8/15\n",
      "3750/3750 [==============================] - 144s 38ms/step - loss: 0.6111 - accuracy: 0.8218 - val_loss: 0.5366 - val_accuracy: 0.8453 - lr: 0.0010\n",
      "Epoch 9/15\n",
      "3750/3750 [==============================] - 144s 39ms/step - loss: 0.5955 - accuracy: 0.8245 - val_loss: 0.5371 - val_accuracy: 0.8456 - lr: 0.0010\n",
      "Epoch 10/15\n",
      "3750/3750 [==============================] - 144s 38ms/step - loss: 0.5836 - accuracy: 0.8279 - val_loss: 0.5329 - val_accuracy: 0.8473 - lr: 0.0010\n",
      "Epoch 11/15\n",
      "3750/3750 [==============================] - 144s 38ms/step - loss: 0.5736 - accuracy: 0.8304 - val_loss: 0.5220 - val_accuracy: 0.8485 - lr: 0.0010\n",
      "Epoch 12/15\n",
      "3750/3750 [==============================] - 144s 38ms/step - loss: 0.5683 - accuracy: 0.8314 - val_loss: 0.5298 - val_accuracy: 0.8496 - lr: 0.0010\n",
      "Epoch 13/15\n",
      "3750/3750 [==============================] - 139s 37ms/step - loss: 0.5568 - accuracy: 0.8352 - val_loss: 0.5255 - val_accuracy: 0.8472 - lr: 0.0010\n",
      "Epoch 14/15\n",
      "3750/3750 [==============================] - 140s 37ms/step - loss: 0.5469 - accuracy: 0.8378 - val_loss: 0.5282 - val_accuracy: 0.8503 - lr: 0.0010\n",
      "Epoch 15/15\n",
      "3750/3750 [==============================] - 140s 37ms/step - loss: 0.5398 - accuracy: 0.8399 - val_loss: 0.5309 - val_accuracy: 0.8495 - lr: 0.0010\n"
     ]
    },
    {
     "data": {
      "text/plain": [
       "<keras.callbacks.History at 0x219f7c5ceb0>"
      ]
     },
     "execution_count": 115,
     "metadata": {},
     "output_type": "execute_result"
    }
   ],
   "source": [
    "model.compile(optimizer=Adam(learning_rate=1e-3), loss='sparse_categorical_crossentropy', metrics=['accuracy'])\n",
    "model.fit(train_ds, \n",
    "          epochs=15,\n",
    "          validation_data=val_ds,\n",
    "          callbacks=[early_stopping, reduce_lr], \n",
    "          verbose=1,\n",
    "          batch_size=64\n",
    "         )"
   ]
  },
  {
   "cell_type": "code",
   "execution_count": null,
   "id": "3fbafb6f-80e5-4d80-9b47-78c090088934",
   "metadata": {},
   "outputs": [],
   "source": [
    "X.shape"
   ]
  },
  {
   "cell_type": "code",
   "execution_count": 118,
   "id": "78dd9a5c-bc7b-4e30-ba7b-91cab9662e90",
   "metadata": {},
   "outputs": [
    {
     "name": "stderr",
     "output_type": "stream",
     "text": [
      "WARNING:absl:Found untraced functions such as _jit_compiled_convolution_op, _jit_compiled_convolution_op, _jit_compiled_convolution_op, _jit_compiled_convolution_op, _jit_compiled_convolution_op while saving (showing 5 of 52). These functions will not be directly callable after loading.\n"
     ]
    },
    {
     "name": "stdout",
     "output_type": "stream",
     "text": [
      "INFO:tensorflow:Assets written to: main_model/assets\n"
     ]
    },
    {
     "name": "stderr",
     "output_type": "stream",
     "text": [
      "INFO:tensorflow:Assets written to: main_model/assets\n"
     ]
    }
   ],
   "source": [
    "model.save('main_model/')  # creates a folder with all model data"
   ]
  },
  {
   "cell_type": "markdown",
   "id": "0262e973-2db6-4005-a8a7-7c252f66c8f8",
   "metadata": {},
   "source": [
    "#### Model Evaluation "
   ]
  },
  {
   "cell_type": "code",
   "execution_count": 119,
   "id": "70bc797f-c369-4f16-ac27-34db074d9c54",
   "metadata": {},
   "outputs": [
    {
     "name": "stdout",
     "output_type": "stream",
     "text": [
      "469/469 [==============================] - 12s 25ms/step - loss: 0.5553 - accuracy: 0.8419\n"
     ]
    },
    {
     "data": {
      "text/plain": [
       "[0.5552923083305359, 0.8419333100318909]"
      ]
     },
     "execution_count": 119,
     "metadata": {},
     "output_type": "execute_result"
    }
   ],
   "source": [
    "model.evaluate(x=X_test,y=y_test)"
   ]
  },
  {
   "cell_type": "code",
   "execution_count": 168,
   "id": "5f36a7f0-5cd9-433a-8da2-c28920e298ce",
   "metadata": {},
   "outputs": [
    {
     "data": {
      "text/plain": [
       "TensorShape([1, 96, 96, 1])"
      ]
     },
     "execution_count": 168,
     "metadata": {},
     "output_type": "execute_result"
    },
    {
     "data": {
      "image/png": "[encoded data removed]",
      "text/plain": [
       "<Figure size 640x480 with 1 Axes>"
      ]
     },
     "metadata": {},
     "output_type": "display_data"
    }
   ],
   "source": [
    "image_path = 'image2.png'\n",
    "image = tf.io.read_file(image_path)\n",
    "image = tf.image.decode_image(image, channels=1) \n",
    "plt.imshow(image,cmap='gray')\n",
    "image = tf.image.resize(image, [96, 96])\n",
    "image = image / 255.0\n",
    "image = tf.expand_dims(image, axis=0)\n",
    "image.shape"
   ]
  },
  {
   "cell_type": "code",
   "execution_count": 169,
   "id": "dabd539c-8a9c-4f36-a35e-1d692515c7ad",
   "metadata": {},
   "outputs": [
    {
     "name": "stdout",
     "output_type": "stream",
     "text": [
      "1/1 [==============================] - 0s 67ms/step\n",
      "Predicted Label: headphones\n",
      "[[8.7129773e-04 8.2812949e-05 4.5491408e-05 1.0850286e-04 7.9951067e-05\n",
      "  1.1611613e-05 1.5336492e-04 3.4724413e-03 2.0787400e-05 2.1176190e-04\n",
      "  4.7444200e-04 8.5280852e-05 2.9857911e-06 2.1495127e-04 8.5330603e-04\n",
      "  1.0225074e-03 3.4524270e-05 1.9912179e-05 5.8502886e-03 5.3101467e-05\n",
      "  7.7273245e-03 9.9056969e+01 1.1651009e-04 7.7208045e-07 3.1570144e-05\n",
      "  1.8743905e-05 1.1212727e-02 6.8891044e-05 5.0290639e-04 2.6781621e-04\n",
      "  4.0190748e-04 1.1189369e-03 3.0920808e-05 4.4752333e-06 4.3884930e-03\n",
      "  1.0117703e-03 2.1592733e-03 5.4335498e-05 5.2180589e-05 1.6782264e-03\n",
      "  3.4948581e-04 9.6325921e-06 7.2083688e-01 7.0910273e-06 2.5211944e-04\n",
      "  1.7519462e-01 1.1167552e-04 5.4060755e-04 8.3319756e-04 3.8124816e-04]]\n",
      "[21]\n",
      "[array([8.71297743e-06, 8.28129487e-07, 4.54914073e-07, 1.08502866e-06,\n",
      "       7.99510701e-07, 1.16116134e-07, 1.53364920e-06, 3.47244131e-05,\n",
      "       2.07873995e-07, 2.11761903e-06, 4.74442004e-06, 8.52808512e-07,\n",
      "       2.98579117e-08, 2.14951274e-06, 8.53306028e-06, 1.02250742e-05,\n",
      "       3.45242711e-07, 1.99121786e-07, 5.85028865e-05, 5.31014678e-07,\n",
      "       7.72732456e-05, 9.90569711e-01, 1.16510091e-06, 7.72080444e-09,\n",
      "       3.15701442e-07, 1.87439056e-07, 1.12127273e-04, 6.88910461e-07,\n",
      "       5.02906414e-06, 2.67816199e-06, 4.01907482e-06, 1.11893696e-05,\n",
      "       3.09208076e-07, 4.47523334e-08, 4.38849311e-05, 1.01177038e-05,\n",
      "       2.15927321e-05, 5.43354986e-07, 5.21805873e-07, 1.67822636e-05,\n",
      "       3.49485822e-06, 9.63259197e-08, 7.20836874e-03, 7.09102750e-08,\n",
      "       2.52119435e-06, 1.75194617e-03, 1.11675524e-06, 5.40607562e-06,\n",
      "       8.33197555e-06, 3.81248151e-06], dtype=float32)]\n",
      "[21 42 45 26 20]\n",
      "Rank 1: Class = headphones, Probability = 99.06%\n",
      "Rank 2: Class = stethoscope, Probability = 0.72%\n",
      "Rank 3: Class = telephone, Probability = 0.18%\n",
      "Rank 4: Class = light bulb, Probability = 0.01%\n",
      "Rank 5: Class = garden hose, Probability = 0.01%\n"
     ]
    }
   ],
   "source": [
    "prediction = (model.predict(image))\n",
    "pred_class_index = np.argmax(prediction, axis=1)\n",
    "label = label_encoder.inverse_transform(pred_class_index)[0]\n",
    "print(\"Predicted Label:\", label)\n",
    "print(prediction*100)\n",
    "print(pred_class_index)\n",
    "top5 = heapq.nlargest(5, prediction)\n",
    "print(top5)\n",
    "\n",
    "top5_indices = np.argsort(prediction[0])[-5:][::-1]  \n",
    "top5_probs = prediction[0][top5_indices]             \n",
    "print(top5_indices)\n",
    "top5_labels = label_encoder.inverse_transform(top5_indices)\n",
    "\n",
    "for i in range(5):\n",
    "    print(f\"Rank {i+1}: Class = {top5_labels[i]}, Probability = {top5_probs[i]*100:.2f}%\")"
   ]
  },
  {
   "cell_type": "code",
   "execution_count": 33,
   "id": "c220d21d-80b7-4aa0-b37f-e6c08be1c965",
   "metadata": {},
   "outputs": [
    {
     "name": "stdout",
     "output_type": "stream",
     "text": [
      "(32, 96, 96, 1) tf.Tensor([ 2 18 37 15 14], shape=(5,), dtype=int32)\n"
     ]
    }
   ],
   "source": [
    "for images, labels in train_ds.take(1):\n",
    "    print(images.shape, labels[:5])"
   ]
  },
  {
   "cell_type": "code",
   "execution_count": 167,
   "id": "7a3a86d4-e4e4-4771-8f27-d8b38adf2b97",
   "metadata": {},
   "outputs": [
    {
     "data": {
      "text/plain": [
       "['label_encoder.joblib']"
      ]
     },
     "execution_count": 167,
     "metadata": {},
     "output_type": "execute_result"
    }
   ],
   "source": [
    "import joblib\n",
    "joblib.dump(label_encoder, 'label_encoder.joblib')"
   ]
  }
 ],
 "metadata": {
  "kernelspec": {
   "display_name": "Python 3 (ipykernel)",
   "language": "python",
   "name": "python3"
  },
  "language_info": {
   "codemirror_mode": {
    "name": "ipython",
    "version": 3
   },
   "file_extension": ".py",
   "mimetype": "text/x-python",
   "name": "python",
   "nbconvert_exporter": "python",
   "pygments_lexer": "ipython3",
   "version": "3.10.16"
  }
 },
 "nbformat": 4,
 "nbformat_minor": 5
}
